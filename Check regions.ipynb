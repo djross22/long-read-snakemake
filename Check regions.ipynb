{
 "cells": [
  {
   "cell_type": "code",
   "execution_count": 1,
   "metadata": {},
   "outputs": [
    {
     "data": {
      "application/javascript": [
       "IPython.notebook.set_autosave_interval(0)"
      ]
     },
     "metadata": {},
     "output_type": "display_data"
    },
    {
     "name": "stdout",
     "output_type": "stream",
     "text": [
      "Autosave disabled\n"
     ]
    }
   ],
   "source": [
    "import os\n",
    "import glob\n",
    "import datetime\n",
    "import matplotlib.pyplot as plt\n",
    "from matplotlib import colors\n",
    "import numpy as np\n",
    "import pandas as pd\n",
    "import scipy\n",
    "from scipy.optimize import curve_fit\n",
    "\n",
    "#from Bio import AlignIO\n",
    "from Bio.Align import AlignInfo\n",
    "from Bio.Seq import Seq\n",
    "from Bio.Alphabet import generic_dna\n",
    "from Bio.SeqRecord import SeqRecord\n",
    "from Bio.Align import MultipleSeqAlignment\n",
    "\n",
    "import gsf_ims_fitness as fitness\n",
    "\n",
    "import pickle\n",
    "\n",
    "import random\n",
    "\n",
    "import gzip\n",
    "\n",
    "import seaborn as sns\n",
    "sns.set()\n",
    "\n",
    "#from sklearn.mixture import GaussianMixture\n",
    "#from sklearn.mixture import BayesianGaussianMixture\n",
    "\n",
    "%load_ext autoreload\n",
    "%autoreload 2\n",
    "\n",
    "%matplotlib inline\n",
    "\n",
    "%autosave 0\n",
    "\n",
    "sns.set_style(\"white\")\n",
    "sns.set_style(\"ticks\", {'xtick.direction':'in', 'xtick.top':True, 'ytick.direction':'in', 'ytick.right':True})\n",
    "\n",
    "plt.rcParams['axes.labelsize'] = 20\n",
    "plt.rcParams['xtick.labelsize'] = 16\n",
    "plt.rcParams['ytick.labelsize'] = 16\n",
    "\n",
    "plt.rcParams['legend.fontsize'] = 14\n",
    "plt.rcParams['legend.edgecolor'] = 'k'"
   ]
  },
  {
   "cell_type": "code",
   "execution_count": 2,
   "metadata": {},
   "outputs": [
    {
     "data": {
      "text/plain": [
       "'C:\\\\Users\\\\djross\\\\Documents\\\\Edrive\\\\engineering-bio-lacI-landscape'"
      ]
     },
     "execution_count": 2,
     "metadata": {},
     "output_type": "execute_result"
    }
   ],
   "source": [
    "notebook_directory = os.getcwd()\n",
    "notebook_directory"
   ]
  },
  {
   "cell_type": "code",
   "execution_count": 3,
   "metadata": {},
   "outputs": [
    {
     "data": {
      "text/plain": [
       "'C:\\\\Users\\\\djross\\\\Documents\\\\Edrive\\\\engineering-bio-lacI-landscape\\\\data_0\\\\processed\\\\targets'"
      ]
     },
     "execution_count": 3,
     "metadata": {},
     "output_type": "execute_result"
    }
   ],
   "source": [
    "target_tsv_directory = notebook_directory + \"\\\\data_0\\\\processed\\\\targets\"\n",
    "os.chdir(target_tsv_directory)\n",
    "target_tsv_directory"
   ]
  },
  {
   "cell_type": "code",
   "execution_count": 389,
   "metadata": {},
   "outputs": [
    {
     "data": {
      "text/plain": [
       "['barcode_1.tsv.gz',\n",
       " 'barcode_2.tsv.gz',\n",
       " 'empty_1.tsv.gz',\n",
       " 'empty_2.tsv.gz',\n",
       " 'insulator.tsv.gz',\n",
       " 'KAN.tsv.gz',\n",
       " 'lacI.tsv.gz',\n",
       " 'Ori.tsv.gz',\n",
       " 'tetA.tsv.gz',\n",
       " 'YFP.tsv.gz']"
      ]
     },
     "execution_count": 389,
     "metadata": {},
     "output_type": "execute_result"
    }
   ],
   "source": [
    "pacbio_files = glob.glob(\"*.tsv.gz\")\n",
    "pacbio_files"
   ]
  },
  {
   "cell_type": "code",
   "execution_count": 390,
   "metadata": {
    "scrolled": true
   },
   "outputs": [
    {
     "data": {
      "text/plain": [
       "['barcode_1',\n",
       " 'barcode_2',\n",
       " 'empty_1',\n",
       " 'empty_2',\n",
       " 'insulator',\n",
       " 'KAN',\n",
       " 'lacI',\n",
       " 'Ori',\n",
       " 'tetA',\n",
       " 'YFP']"
      ]
     },
     "execution_count": 390,
     "metadata": {},
     "output_type": "execute_result"
    }
   ],
   "source": [
    "regions = [ x[:x.find(\".tsv.gz\")] for x in pacbio_files ]\n",
    "regions"
   ]
  },
  {
   "cell_type": "code",
   "execution_count": 457,
   "metadata": {},
   "outputs": [
    {
     "data": {
      "text/plain": [
       "'YFP.tsv.gz'"
      ]
     },
     "execution_count": 457,
     "metadata": {},
     "output_type": "execute_result"
    }
   ],
   "source": [
    "region = \"YFP\"\n",
    "file = region + \".tsv.gz\"\n",
    "file"
   ]
  },
  {
   "cell_type": "code",
   "execution_count": null,
   "metadata": {},
   "outputs": [],
   "source": []
  },
  {
   "cell_type": "code",
   "execution_count": 458,
   "metadata": {},
   "outputs": [],
   "source": [
    "wild_type_dict = {}\n",
    "trim_dict = {}\n",
    "wild_type_dict[\"empty_1\"] = \"CTAGCGCTGAGGTCTGCCTCGTGCAGCGAGTCAGTGAGCGAGGAAGCACCTCAGATAAAATATTTGCTCATGAGCCCGAAGTGGCGAGCCCGACAAAAAACCCCTCAAGACCCGTTTAGAGGCCCCAAGGGGTTATGCTAGTCTTCCCCATCGGTGAGCCCGGGCTGTCGGCGT\"\n",
    "trim_dict[\"empty_1\"] = 25\n",
    "wild_type_dict[\"empty_2\"] = \"CGGTGGCCCGGGCGGCCGCACGATGCGTCCGGCGTAGAGGATCTGCTCATGTTTGACAGCTTATCATCGATGCATAATGTGCCTGTCAAATGGACGAAGCAGGGATTCTGCAAACCCTATGCTACTCCCTCGAGCCGTCAATTGTCTGATTCGTTACCAATTATTTTTTCCTCCTGGATTA\"\n",
    "trim_dict[\"empty_2\"] = 25\n",
    "wild_type_dict[\"insulator\"] = \"ATTCACCACCCTGAATTGACTCTCTTCCGGGCGCTATCATGCCATACCGCGAAAGGTTTTGCGCCATTCGATGGCGCGCCGCCATAAATCTCGGTACCAAATTCCAGAAAAGAGGCCTCCCGAAAGGGGGGCCTTTTTTCGTTTTGGTCCGAGCTGTTGACAATTAATCATCGGCTCGTATAATGTGTGGAATTGTGAGCGGATAACAATTAGCTGTCACCGGATGTGCTTTCCGGTCTGATGAGTCCGTGAGGACGAAACAGCCTCTACAAATAATTTTGTTTAATACTAGCCATCAAGGAGAGCTGCTAC\"\n",
    "trim_dict[\"insulator\"] = 25\n",
    "wild_type_dict[\"KAN\"] = \"AAGCGGGAGACCAGAAACAAAAAAAGGCCCCCCGTTAGGGAGGCCTTCAATAATTGGTTGTGTCTCAAAATCTCTGATGTACATTGCACAAGATAAAAATATATCATCATGAACAATAAAACTGTCTGCTTACATAAACAGTAATACAAGGGGTGTTATGAGCCATATTCAACGGGAAACGTCTTGCTCCAGGCCGCGATTAAATTCCAACATGGATGCTGATTTATATGGGTATAAATGGGCTCGCGATAATGTCGGGCAATCAGGTGCGACAATCTATCGATTGTATGGGAAGCCCGATGCGCCAGAGTTGTTTCTGAAACATGGCAAAGGTAGCGTTGCCAATGATGTTACAGATGAGATGGTCAGACTAAACTGGCTGACGGAATTTATGCCTCTTCCGACCATCAAGCATTTTATCCGTACTCCTGATGATGCATGGTTACTCACCACTGCGATCCCCGGGAAAACAGCATTCCAGGTATTAGAAGAATATCCTGATTCAGGTGAAAATATTGTTGATGCGCTGGCAGTGTTCCTGCGCCGGTTGCATTCGATTCCTGTTTGTAATTGTCCTTTTAACAGCGATCGCGTATTTCGTCTCGCTCAGGCGCAATCACGAATGAATAACGGTTTGGTTGATGCGAGTGATTTTGATGACGAGCGTAATGGCTGGCCTGTTGAACAAGTCTGGAAAGAAATGCATAAGCTTTTGCCATTCTCACCGGATTCAGTCGTCACTCATGGTGATTTCTCACTTGATAACCTTATTTTTGACGAGGGGAAATTAATAGGTTGTATTGATGTTGGACGAGTCGGAATCGCAGACCGATACCAGGATCTTGCCATCCTATGGAACTGCCTCGGTGAGTTTTCTCCTTCATTACAGAAACGGCTTTTTCAAAAATATGGTATTGATAATCCTGATATGAATAAATTGCAGTTTCATTTGATGCTCGATGAGTTTTTCTAAGGTAACTGTCAGACCAAGTTTACTCATATATACTTTAGATTGATTTTTCGTTCCACTGAGCGTCAGACCCC\"\n",
    "trim_dict[\"KAN\"] = 0\n",
    "wild_type_dict[\"lacI\"] = \"TCACTGCCCGCTTTCCAGTCGGGAAACCTGTCGTGCCAGCTGCATTAATGAATCGGCCAACGCGCGGGGAGAGGCGGTTTGCGTATTGGGCGCCAGGGTGGTTTTTCTTTTCACCAGTGAGACTGGCAACAGCTGATTGCCCTTCACCGCCTGGCCCTGAGAGAGTTGCAGCAAGCGGTCCACGCTGGTTTGCCCCAGCAGGCGAAAATCCTGTTTGATGGTGGTTAACGGCGGGATATAACATGAGCTATCTTCGGTATCGTCGTATCCCACTACCGAGATATCCGCACCAACGCGCAGCCCGGACTCGGTAATGGCGCGCATTGCGCCCAGCGCCATCTGATCGTTGGCAACCAGCATCGCAGTGGGAACGATGCCCTCATTCAGCATTTGCATGGTTTGTTGAAAACCGGACATGGCACTCCAGTCGCCTTCCCGTTCCGCTATCGGCTGAATTTGATTGCGAGTGAGATATTTATGCCAGCCAGCCAGACGCAGACGCGCCGAGACAGAACTTAATGGGCCCGCTAACAGCGCGATTTGCTGGTGACCCAATGCGACCAGATGCTCCACGCCCAGTCGCGTACCGTCCTCATGGGAGAAAATAATACTGTTGATGGGTGTCTGGTCAGAGACATCAAGAAATAACGCCGGAACATTAGTGCAGGCAGCTTCCACAGCAATGGCATCCTGGTCATCCAGCGGATAGTTAATGATCAGCCCACTGACGCGTTGCGCGAGAAGATTGTGCACCGCCGCTTTACAGGCTTCGACGCCGCTTCGTTCTACCATCGACACCACCACGCTGGCACCCAGTTGATCGGCGCGAGATTTAATCGCCGCGACAATTTGCGACGGCGCGTGCAGGGCCAGACTGGAGGTGGCAACGCCAATCAGCAACGACTGTTTGCCCGCCAGTTGTTGTGCCACGCGGTTGGGAATGTAATTCAGCTCCGCCATCGCCGCTTCCACTTTTTCCCGCGTTTTCGCAGAAACGTGGCTGGCCTGGTTCACCACGCGGGAAACGGTCTGATAAGAGACACCGGCATACTCTGCGACATCGTATAACGTTACTGGTTTCAT\"\n",
    "trim_dict[\"lacI\"] = 0\n",
    "wild_type_dict[\"Ori\"] = \"TTAATAAGATGATCTTCTTGAGATCGTTTTGGTCTGCGCGTAATCTCTTGCTCTGAAAACGAAAAAACCGCCTTGCAGGGCGGTTTTTCGAAGGTTCTCTGAGCTACCAACTCTTTGAACCGAGGTAACTGGCTTGGAGGAGCGCAGTCACCAAAACTTGTCCTTTCAGTTTAGCCTTAACCGGCGCATGACTTCAAGACTAACTCCTCTAAATCAATTACCAGTGGCTGCTGCCAGTGGTGCTTTTGCATGTCTTTCCGGGTTGGACTCAAGACGATAGTTACCGGATAAGGCGCAGCGGTCGGACTGAACGGGGGGTTCGTGCATACAGTCCAGCTTGGAGCGAACTGCCTACCCGGAACTGAGTGTCAGGCGTGGAATGAGACAAACGCGGCCATAACAGCGGAATGACACCGGTAAACCGAAAGGCAGGAACAGGAGAGCGCACGAGGGAGCCGCCAGGGGGAAACGCCTGGTATCTTTATAGTCCTGTCGGGTTTCGCCACCACTGATTTGAGCGTCAGATTTCGTGATGCTTGTCAGGGGGGCGGAGCCTATGGAAAAACGGCTTTGCCGCGGCCCTCTCACTTCCCTGTTAAGTATCTTCCTGGCATCTTCCAGGAAATCTCCGCCCCGTTCGTAAGCCATTTCCGCTCGCCGCAGTCGAACGACCGAGCGTAGCGAGTCAGTGAGCGAGGAAGCGGAATATATCCTGTATCACATATTCTGCTGACGCACCGGTGCAGCCTTTTTTCTCCTGCCACATGAAGCACTTCACTGACACCCTCATCAGTGCCAACATAGT\"\n",
    "trim_dict[\"Ori\"] = 0\n",
    "wild_type_dict[\"tetA\"] = \"ATGAGTAGCAGTACGAAAATTGCGCTTGTCATCACCCTCCTGGATGCGATGGGGATCGGCTTGATCATGCCGGTACTGCCAACCCTTCTGCGCGAGTTCATTGCAAGCGAAGATATTGCCAACCATTTCGGGGTTCTGCTCGCACTGTACGCCTTAATGCAGGTCATCTTTGCTCCCTGGTTAGGCAAAATGTCAGACAGCTTTGGACGCCGTCCTGTTTTGCTGTTAAGCCTTATCGGAGCGAGCCTGGATTACCTTTTATTGGCCTTCTCCTCGGCACTGTGGATGCTTTATTTGGGTCGTTTGCTGAGTGGGATTACAGGCGCGACGGGTGCCGTGGCGGCGTCGGTGATTGCTGATACGACGTCCGCAAGTCAACGTGTGAAATTGTTCGGCTGGTTAGGAGCCTCCTTTGGCTTGGGCTTAATCGCTGGGCCAATTATTGGCGGGTTCGCCGGCGAAATCTCACCACATTCCCCTTTTTTCATCGCGGCATTACTCAACATTGTCACGTTCCTGGTGGTGATGTTCTGGTTCCGCGAAACGAAAAACACCCGCGATAACACGGATACAGAGGTGGGGGTTGAAACGCAATCGAACAGTGTGTACATCACGCTCTTCAAGACCATGCCCATCCTGCTCATCATCTACTTCTCCGCACAGTTGATTGGGCAAATCCCGGCCACAGTGTGGGTTTTGTTTACGGAAAACCGTTTCGGGTGGAACTCCATGATGGTGGGTTTCTCTCTGGCTGGATTGGGACTTCTGCATAGTGTTTTCCAGGCTTTCGTCGCTGGCCGTATTGCCACAAAGTGGGGAGAAAAAACCGCTGTATTGCTTGGTTTTATCGCAGATAGCTCTGCGTTTGCCTTCTTGGCATTTATTAGCGAAGGCTGGCTCGTGTTTCCGGTATTGATTCTGTTGGCTGGGGGCGGTATCGCATTACCCGCGCTGCAGGGAGTTATGTCTATTCAAACCAAATCACACCAACAAGGAGCGCTGCAAGGCTTACTTGTGTCCCTGACCAACGCAACCGGAGTCATCGGGCCACTTCTGTTCGCTGTAATTTATAACCACTCACTGCCAATTTGGGATGGATGGATCTGGATCATCGGTCTTGCCTTCTACTGCATCATCATTTTGCTGTCAATGACATTCATGCTGACGCCTCAAGCCCAAGGATCTAAACAAGAAACGAGTGCC\"\n",
    "trim_dict[\"tetA\"] = 0\n",
    "wild_type_dict[\"YFP\"] = \"TAACGGCGTAAGGAGGTATTTTTATGGTGTCAAAGGGTGAGGAACTGTTTACGGGGATCGTCCCGATTCTTGTTGAACTTGACGGCGACGTAAATGGTCACAAGTTTTCCGTATCGGGCGAAGGTGAGGGCGATGCGACTTATGGGAAATTAACACTGAAATTCATTTGCACCACCGGAAAACTGCCCGTTCCTTGGCCTACTCTGGTAACCACGTTCGGATATGGTTTACAGTGTTTTGCTCGCTACCCGGACCATATGAAACTGCACGATTTCTTCAAGTCCGCCATGCCGGAGGGCTACGTGCAGGAACGTACAATCTTCTTCAAAGACGATGGTAATTACAAGACCCGTGCTGAAGTTAAATTTGAGGGGGATACTTTAGTCAATCGTATTGAATTGAAGGGGATTGACTTTAAGGAAGACGGTAATATCCTTGGCCACAAGCTTGAATACAACTACAATAGTCACAATGTGTATATTATGGCTGATAAACAGAAGAATGGCATTAAGGTTAACTTTAAGATCCGTCACAATATCGAAGACGGATCTGTCCAGCTTGCTGACCATTATCAGCAAAATACGCCGATCGGTGACGGTCCGGTTTTGTTGCCGGACAACCATTACCTGTCCTATCAGTCGGCGTTAAGTAAAGATCCGAATGAGAAACGCGACCATATGGTTTTGTTGGAGTTTGTGACGGCTGCTGGCATTACGCTTGGGATGGACGAGCTGTATAAATAA\"\n",
    "trim_dict[\"YFP\"] = 0\n",
    "\n",
    "wild_type_seq = wild_type_dict[region]\n",
    "adapt_len = trim_dict[region]"
   ]
  },
  {
   "cell_type": "code",
   "execution_count": 459,
   "metadata": {},
   "outputs": [
    {
     "name": "stdout",
     "output_type": "stream",
     "text": [
      "Wall time: 59.8 ms\n"
     ]
    }
   ],
   "source": [
    "%%time\n",
    "\n",
    "with gzip.open(file, 'rb') as f:\n",
    "    region_frame = pd.read_csv(f, sep=\"\\t\", skipinitialspace=True)\n",
    "    \n",
    "if adapt_len>0:\n",
    "    new_seqs = []\n",
    "    for s in region_frame[\"seq\"]:\n",
    "        up = [ c.isupper() for c in s ]\n",
    "        if True in up:\n",
    "            n_s = s[up.index(True)-adapt_len:-up[::-1].index(True)+adapt_len][:350].upper()\n",
    "            new_seqs.append(n_s)\n",
    "        else:\n",
    "            new_seqs.append(\"\")\n",
    "    region_frame[\"seq\"] = new_seqs\n",
    "    region_frame = region_frame[region_frame[\"seq\"]!=\"\"]\n",
    "    region_frame = region_frame[region_frame[\"seq\"].str.len()>2*adapt_len]\n",
    "region_frame = region_frame[~region_frame[\"seq\"].isnull()]"
   ]
  },
  {
   "cell_type": "code",
   "execution_count": 460,
   "metadata": {},
   "outputs": [
    {
     "data": {
      "text/plain": [
       "7902"
      ]
     },
     "execution_count": 460,
     "metadata": {},
     "output_type": "execute_result"
    }
   ],
   "source": [
    "len(region_frame)"
   ]
  },
  {
   "cell_type": "code",
   "execution_count": 461,
   "metadata": {},
   "outputs": [
    {
     "name": "stdout",
     "output_type": "stream",
     "text": [
      "TACGGCGTAAGGAGGTATTTTTATG, False, 2.0\n",
      "TAACGGCGTAAGGAGGTATTTTTAT, True, 0.0\n",
      "TAACGGCGTAAGGAGGTATTTTTAT, True, 0.0\n",
      "TAACGGCGTAAGGAGGTATTTTTAT, True, 0.0\n",
      "TAACGGCGTAAGGAGGTATTTTTAT, True, 0.0\n",
      "\n",
      "TAACGGCGTAAGGAGGTATTTTTAT\n"
     ]
    }
   ],
   "source": [
    "for s in region_frame[\"seq\"].iloc[:5]:\n",
    "    dist = fitness.levenshtein_distance(s[:25], wild_type_seq[:25])\n",
    "    print(f\"{s[:25]}, {s[:25]==wild_type_seq[:25]}, {dist}\")\n",
    "print()\n",
    "print(wild_type_seq[:25])"
   ]
  },
  {
   "cell_type": "code",
   "execution_count": 462,
   "metadata": {},
   "outputs": [
    {
     "name": "stdout",
     "output_type": "stream",
     "text": [
      "TGGGATGGACGAGCTGTATAAATAA, True, 0.0\n",
      "TGGGATGGACGAGCTGTATAAATAA, True, 0.0\n",
      "TGGGATGGACGAGCTGTATAAATAA, True, 0.0\n",
      "TGGGATGGACGAGCTGTATAAATAA, True, 0.0\n",
      "TGGGATGGACGAGCTGTATAAATAA, True, 0.0\n",
      "\n",
      "TGGGATGGACGAGCTGTATAAATAA\n"
     ]
    }
   ],
   "source": [
    "for s in region_frame[\"seq\"].iloc[:5]:\n",
    "    dist = fitness.levenshtein_distance(s[-25:], wild_type_seq[-25:])\n",
    "    print(f\"{s[-25:]}, {s[-25:]==wild_type_seq[-25:]}, {dist}\")\n",
    "print()\n",
    "print(wild_type_seq[-25:])"
   ]
  },
  {
   "cell_type": "code",
   "execution_count": 463,
   "metadata": {},
   "outputs": [
    {
     "name": "stdout",
     "output_type": "stream",
     "text": [
      "TTATTTATACAGCTCGTCCATCCCA\n",
      "\n",
      "TTATTTATACAGCTCGTCCATCCCA\n",
      "TTATTTATACAGCTCGTCCATCCCA\n",
      "TTATTTATACAGCTCGTCCATCCCA\n",
      "TTATTTATACAGCTCGTCCATCCCA\n",
      "TTATTTATACAGCTCGTCCATCCCA\n",
      "\n",
      "TAACGGCGTAAGGAGGTATTTTTAT\n"
     ]
    }
   ],
   "source": [
    "print(str(Seq(wild_type_seq).reverse_complement())[:25])\n",
    "print()\n",
    "for s in region_frame[\"seq\"].iloc[:5]:\n",
    "    print(str(Seq(s).reverse_complement())[:25])\n",
    "print()\n",
    "print(wild_type_seq[:25])"
   ]
  },
  {
   "cell_type": "code",
   "execution_count": null,
   "metadata": {},
   "outputs": [],
   "source": []
  },
  {
   "cell_type": "code",
   "execution_count": 464,
   "metadata": {},
   "outputs": [],
   "source": [
    "region_frame[\"seq_length\"] = [ len(x) for x in region_frame[\"seq\"] ]"
   ]
  },
  {
   "cell_type": "code",
   "execution_count": null,
   "metadata": {},
   "outputs": [],
   "source": []
  },
  {
   "cell_type": "code",
   "execution_count": 465,
   "metadata": {
    "scrolled": true
   },
   "outputs": [
    {
     "name": "stdout",
     "output_type": "stream",
     "text": [
      "6389\n"
     ]
    }
   ],
   "source": [
    "print(region_frame[\"seq_length\"].max())"
   ]
  },
  {
   "cell_type": "code",
   "execution_count": 466,
   "metadata": {
    "scrolled": true
   },
   "outputs": [
    {
     "name": "stdout",
     "output_type": "stream",
     "text": [
      "20\n"
     ]
    }
   ],
   "source": [
    "print(region_frame[\"seq_length\"].min())"
   ]
  },
  {
   "cell_type": "code",
   "execution_count": 467,
   "metadata": {},
   "outputs": [
    {
     "data": {
      "text/plain": [
       "743"
      ]
     },
     "execution_count": 467,
     "metadata": {},
     "output_type": "execute_result"
    }
   ],
   "source": [
    "seq_length_mode = region_frame[\"seq_length\"].mode().values[0]\n",
    "seq_length_mode"
   ]
  },
  {
   "cell_type": "code",
   "execution_count": 468,
   "metadata": {},
   "outputs": [
    {
     "data": {
      "text/plain": [
       "743"
      ]
     },
     "execution_count": 468,
     "metadata": {},
     "output_type": "execute_result"
    }
   ],
   "source": [
    "len(wild_type_seq)"
   ]
  },
  {
   "cell_type": "code",
   "execution_count": 469,
   "metadata": {},
   "outputs": [
    {
     "data": {
      "text/plain": [
       "5064"
      ]
     },
     "execution_count": 469,
     "metadata": {},
     "output_type": "execute_result"
    },
    {
     "data": {
      "image/png": "[encoded data removed]",
      "text/plain": [
       "<Figure size 576x432 with 1 Axes>"
      ]
     },
     "metadata": {},
     "output_type": "display_data"
    }
   ],
   "source": [
    "plt.rcParams[\"figure.figsize\"] = [8, 6]\n",
    "fig, axs = plt.subplots(1, 1)\n",
    "bins= [i+0.5 for i in range(seq_length_mode-10, seq_length_mode+10)]\n",
    "\n",
    "axs.hist(region_frame[\"seq_length\"], bins=bins, alpha=0.7, label=region);\n",
    "axs.set_yscale('log');\n",
    "axs.set_xticks([i for i in range(seq_length_mode-10, seq_length_mode+10, 2)]);\n",
    "ylim = axs.get_ylim()\n",
    "xlim = axs.get_xlim()\n",
    "axs.set_xlim(xlim)\n",
    "for x, fmt in zip([-50, 0, 50], [\"--\", \"-\", \"--\"]):\n",
    "    axs.plot([len(wild_type_seq)+x]*2, ylim, fmt+\"k\")\n",
    "axs.set_ylim(ylim)\n",
    "leg = axs.legend(loc='upper right', bbox_to_anchor= (0.97, 0.97), ncol=1, borderaxespad=0)\n",
    "len(region_frame[region_frame[\"seq_length\"]==seq_length_mode])"
   ]
  },
  {
   "cell_type": "code",
   "execution_count": null,
   "metadata": {},
   "outputs": [],
   "source": []
  }
 ],
 "metadata": {
  "kernelspec": {
   "display_name": "Python 3",
   "language": "python",
   "name": "python3"
  },
  "language_info": {
   "codemirror_mode": {
    "name": "ipython",
    "version": 3
   },
   "file_extension": ".py",
   "mimetype": "text/x-python",
   "name": "python",
   "nbconvert_exporter": "python",
   "pygments_lexer": "ipython3",
   "version": "3.7.5"
  }
 },
 "nbformat": 4,
 "nbformat_minor": 2
}
